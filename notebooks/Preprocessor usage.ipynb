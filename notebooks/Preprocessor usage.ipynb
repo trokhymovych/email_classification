{
 "cells": [
  {
   "cell_type": "code",
   "execution_count": 1,
   "metadata": {},
   "outputs": [],
   "source": [
    "import pandas as pd\n",
    "import numpy as np\n",
    "import re\n",
    "\n",
    "#### CHANGE TO YOUR PATH\n",
    "import sys\n",
    "sys.path.insert(0, '/Users/ntr/Documents/emailsendtime')\n",
    "\n",
    "from modules.processor import Preprocessor\n",
    "p = Preprocessor()\n",
    "\n",
    "train = pd.read_csv('../data/email_best_send_time_train.csv')\n",
    "test = pd.read_csv('../data/email_best_send_time_test.csv')"
   ]
  },
  {
   "cell_type": "code",
   "execution_count": 2,
   "metadata": {},
   "outputs": [
    {
     "data": {
      "text/plain": [
       "array([[ 0.,  0.,  0., ..., 39., 23.,  6.],\n",
       "       [ 0.,  0.,  0., ..., 47., 19.,  0.],\n",
       "       [ 0.,  0.,  0., ...,  7., 46.,  2.],\n",
       "       ...,\n",
       "       [ 0.,  0.,  0., ..., 17., 33.,  7.],\n",
       "       [ 0.,  0.,  0., ..., 48., 57.,  6.],\n",
       "       [ 0.,  0.,  0., ..., 37., 34.,  2.]])"
      ]
     },
     "execution_count": 2,
     "metadata": {},
     "output_type": "execute_result"
    }
   ],
   "source": [
    "p.fit(train)"
   ]
  }
 ],
 "metadata": {
  "kernelspec": {
   "display_name": "Python 3",
   "language": "python",
   "name": "python3"
  },
  "language_info": {
   "codemirror_mode": {
    "name": "ipython",
    "version": 3
   },
   "file_extension": ".py",
   "mimetype": "text/x-python",
   "name": "python",
   "nbconvert_exporter": "python",
   "pygments_lexer": "ipython3",
   "version": "3.8.3"
  }
 },
 "nbformat": 4,
 "nbformat_minor": 4
}
