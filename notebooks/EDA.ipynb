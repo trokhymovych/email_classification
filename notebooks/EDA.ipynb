{
 "cells": [
  {
   "cell_type": "code",
   "execution_count": 1,
   "metadata": {},
   "outputs": [],
   "source": [
    "import pandas as pd\n",
    "import numpy as np\n",
    "import re\n",
    "\n",
    "train = pd.read_csv('../data/email_best_send_time_train.csv')\n",
    "test = pd.read_csv('../data/email_best_send_time_test.csv')"
   ]
  },
  {
   "cell_type": "code",
   "execution_count": 2,
   "metadata": {},
   "outputs": [
    {
     "data": {
      "text/html": [
       "<div>\n",
       "<style scoped>\n",
       "    .dataframe tbody tr th:only-of-type {\n",
       "        vertical-align: middle;\n",
       "    }\n",
       "\n",
       "    .dataframe tbody tr th {\n",
       "        vertical-align: top;\n",
       "    }\n",
       "\n",
       "    .dataframe thead th {\n",
       "        text-align: right;\n",
       "    }\n",
       "</style>\n",
       "<table border=\"1\" class=\"dataframe\">\n",
       "  <thead>\n",
       "    <tr style=\"text-align: right;\">\n",
       "      <th></th>\n",
       "      <th>MailID</th>\n",
       "      <th>Subject</th>\n",
       "      <th>MailBoxID</th>\n",
       "      <th>ContactID</th>\n",
       "      <th>TimeZone</th>\n",
       "      <th>SentOn</th>\n",
       "      <th>Opened</th>\n",
       "    </tr>\n",
       "  </thead>\n",
       "  <tbody>\n",
       "    <tr>\n",
       "      <th>0</th>\n",
       "      <td>2381407D-FF81-4D6B-BFAC-D967720C4F7E</td>\n",
       "      <td>\"AJ, thank you for your interest in Revenue In...</td>\n",
       "      <td>66BCC422-78B0-4AE2-9D97-CACD6E60CC00</td>\n",
       "      <td>448CB3F3-B762-4C49-8690-41EE0ED874B3</td>\n",
       "      <td>\"(UTC-08:00) Pacific Time (US &amp; Canada)\"</td>\n",
       "      <td>39:23.6</td>\n",
       "      <td>0</td>\n",
       "    </tr>\n",
       "    <tr>\n",
       "      <th>1</th>\n",
       "      <td>519CA2A6-F77D-4A75-9D2B-536EFCE4E9A1</td>\n",
       "      <td>\"Hi Greg!\"</td>\n",
       "      <td>BC150574-818E-4E7E-A8BA-5FF89FA58BD3</td>\n",
       "      <td>D6574190-E0B2-4AD2-BCF7-CB436E957907</td>\n",
       "      <td>\"(UTC-06:00) Central Time (US &amp; Canada)\"</td>\n",
       "      <td>47:19.0</td>\n",
       "      <td>1</td>\n",
       "    </tr>\n",
       "    <tr>\n",
       "      <th>2</th>\n",
       "      <td>435FA79E-0EBB-4484-95EC-45632EE04057</td>\n",
       "      <td>\"RE: We're of use!\"</td>\n",
       "      <td>0111BDE3-CC64-4276-98C2-FB1B8B506C05</td>\n",
       "      <td>EF3E3347-ECF5-4653-A5B1-AA599BDD0419</td>\n",
       "      <td>\"(UTC-05:00) Eastern Time (US &amp; Canada)\"</td>\n",
       "      <td>07:46.2</td>\n",
       "      <td>1</td>\n",
       "    </tr>\n",
       "    <tr>\n",
       "      <th>3</th>\n",
       "      <td>8BB6F9A2-9E19-41E2-9AD5-ED27A22C56B8</td>\n",
       "      <td>\"RE: Hi Thomas!\"</td>\n",
       "      <td>66BCC422-78B0-4AE2-9D97-CACD6E60CC00</td>\n",
       "      <td>DBF9EFE2-1062-4213-9C44-74A941E06096</td>\n",
       "      <td>\"(UTC-08:00) Pacific Time (US &amp; Canada)\"</td>\n",
       "      <td>31:32.7</td>\n",
       "      <td>0</td>\n",
       "    </tr>\n",
       "    <tr>\n",
       "      <th>4</th>\n",
       "      <td>6A389548-9C49-4C7B-AF09-CCFC56026611</td>\n",
       "      <td>\"RE: Hi Hill!\"</td>\n",
       "      <td>66C24EAB-51C7-4B5F-EFCA-08D6D3CCF2FF</td>\n",
       "      <td>44799F61-76DF-4F6F-A37D-04DB88473C8C</td>\n",
       "      <td>\"(UTC-08:00) Pacific Time (US &amp; Canada)\"</td>\n",
       "      <td>01:45.1</td>\n",
       "      <td>0</td>\n",
       "    </tr>\n",
       "    <tr>\n",
       "      <th>...</th>\n",
       "      <td>...</td>\n",
       "      <td>...</td>\n",
       "      <td>...</td>\n",
       "      <td>...</td>\n",
       "      <td>...</td>\n",
       "      <td>...</td>\n",
       "      <td>...</td>\n",
       "    </tr>\n",
       "    <tr>\n",
       "      <th>100453</th>\n",
       "      <td>BC811AAE-202B-4CE9-905A-879918D93046</td>\n",
       "      <td>\"RE: Ramp time headache\"</td>\n",
       "      <td>9F1BAD1D-0370-4200-0045-08D70B884EBA</td>\n",
       "      <td>8D964C6E-4B8C-4153-A984-8581833B1D8C</td>\n",
       "      <td>\"(UTC-05:00) Eastern Time (US &amp; Canada)\"</td>\n",
       "      <td>29:50.9</td>\n",
       "      <td>0</td>\n",
       "    </tr>\n",
       "    <tr>\n",
       "      <th>100454</th>\n",
       "      <td>9F81A98F-FEEE-4F59-96EB-14C546886770</td>\n",
       "      <td>\"Re: Hi Dan!\"</td>\n",
       "      <td>FBCA1245-7297-41A8-1AB0-08D7856F3B8E</td>\n",
       "      <td>AD35F0A6-DA20-4B4D-ABE7-03DDB630262D</td>\n",
       "      <td>\"(UTC-06:00) Central Time (US &amp; Canada)\"</td>\n",
       "      <td>00:52.9</td>\n",
       "      <td>0</td>\n",
       "    </tr>\n",
       "    <tr>\n",
       "      <th>100455</th>\n",
       "      <td>E3060BD1-82D8-431F-8637-2E0CD2C72C07</td>\n",
       "      <td>\"RE: Ramp time headache\"</td>\n",
       "      <td>9F1BAD1D-0370-4200-0045-08D70B884EBA</td>\n",
       "      <td>A7FE0F8C-DA2D-4BB4-AE40-1DC3BAE41827</td>\n",
       "      <td>\"(UTC-06:00) Central Time (US &amp; Canada)\"</td>\n",
       "      <td>17:33.7</td>\n",
       "      <td>1</td>\n",
       "    </tr>\n",
       "    <tr>\n",
       "      <th>100456</th>\n",
       "      <td>E2A341A9-EAD4-47F9-A5B3-90F52853F253</td>\n",
       "      <td>\"RE: Quick question, Lee?\"</td>\n",
       "      <td>7FCE4E75-9A26-4EE6-7806-08D6CEFA3BFA</td>\n",
       "      <td>2406A473-F51B-42A5-9775-830332245836</td>\n",
       "      <td>\"(UTC-05:00) Eastern Time (US &amp; Canada)\"</td>\n",
       "      <td>48:57.6</td>\n",
       "      <td>0</td>\n",
       "    </tr>\n",
       "    <tr>\n",
       "      <th>100457</th>\n",
       "      <td>80FE4EED-62E5-46D6-81A5-FEB9A57B9EED</td>\n",
       "      <td>\"RE: Hi Venkat!\"</td>\n",
       "      <td>6D05D3D3-AAB3-4FD9-8560-543A39340D31</td>\n",
       "      <td>E185418F-DA74-429E-B907-5C80736612A7</td>\n",
       "      <td>\"(UTC-05:00) Eastern Time (US &amp; Canada)\"</td>\n",
       "      <td>37:34.2</td>\n",
       "      <td>0</td>\n",
       "    </tr>\n",
       "  </tbody>\n",
       "</table>\n",
       "<p>100458 rows × 7 columns</p>\n",
       "</div>"
      ],
      "text/plain": [
       "                                      MailID  \\\n",
       "0       2381407D-FF81-4D6B-BFAC-D967720C4F7E   \n",
       "1       519CA2A6-F77D-4A75-9D2B-536EFCE4E9A1   \n",
       "2       435FA79E-0EBB-4484-95EC-45632EE04057   \n",
       "3       8BB6F9A2-9E19-41E2-9AD5-ED27A22C56B8   \n",
       "4       6A389548-9C49-4C7B-AF09-CCFC56026611   \n",
       "...                                      ...   \n",
       "100453  BC811AAE-202B-4CE9-905A-879918D93046   \n",
       "100454  9F81A98F-FEEE-4F59-96EB-14C546886770   \n",
       "100455  E3060BD1-82D8-431F-8637-2E0CD2C72C07   \n",
       "100456  E2A341A9-EAD4-47F9-A5B3-90F52853F253   \n",
       "100457  80FE4EED-62E5-46D6-81A5-FEB9A57B9EED   \n",
       "\n",
       "                                                  Subject  \\\n",
       "0       \"AJ, thank you for your interest in Revenue In...   \n",
       "1                                              \"Hi Greg!\"   \n",
       "2                                     \"RE: We're of use!\"   \n",
       "3                                        \"RE: Hi Thomas!\"   \n",
       "4                                          \"RE: Hi Hill!\"   \n",
       "...                                                   ...   \n",
       "100453                           \"RE: Ramp time headache\"   \n",
       "100454                                      \"Re: Hi Dan!\"   \n",
       "100455                           \"RE: Ramp time headache\"   \n",
       "100456                         \"RE: Quick question, Lee?\"   \n",
       "100457                                   \"RE: Hi Venkat!\"   \n",
       "\n",
       "                                   MailBoxID  \\\n",
       "0       66BCC422-78B0-4AE2-9D97-CACD6E60CC00   \n",
       "1       BC150574-818E-4E7E-A8BA-5FF89FA58BD3   \n",
       "2       0111BDE3-CC64-4276-98C2-FB1B8B506C05   \n",
       "3       66BCC422-78B0-4AE2-9D97-CACD6E60CC00   \n",
       "4       66C24EAB-51C7-4B5F-EFCA-08D6D3CCF2FF   \n",
       "...                                      ...   \n",
       "100453  9F1BAD1D-0370-4200-0045-08D70B884EBA   \n",
       "100454  FBCA1245-7297-41A8-1AB0-08D7856F3B8E   \n",
       "100455  9F1BAD1D-0370-4200-0045-08D70B884EBA   \n",
       "100456  7FCE4E75-9A26-4EE6-7806-08D6CEFA3BFA   \n",
       "100457  6D05D3D3-AAB3-4FD9-8560-543A39340D31   \n",
       "\n",
       "                                   ContactID  \\\n",
       "0       448CB3F3-B762-4C49-8690-41EE0ED874B3   \n",
       "1       D6574190-E0B2-4AD2-BCF7-CB436E957907   \n",
       "2       EF3E3347-ECF5-4653-A5B1-AA599BDD0419   \n",
       "3       DBF9EFE2-1062-4213-9C44-74A941E06096   \n",
       "4       44799F61-76DF-4F6F-A37D-04DB88473C8C   \n",
       "...                                      ...   \n",
       "100453  8D964C6E-4B8C-4153-A984-8581833B1D8C   \n",
       "100454  AD35F0A6-DA20-4B4D-ABE7-03DDB630262D   \n",
       "100455  A7FE0F8C-DA2D-4BB4-AE40-1DC3BAE41827   \n",
       "100456  2406A473-F51B-42A5-9775-830332245836   \n",
       "100457  E185418F-DA74-429E-B907-5C80736612A7   \n",
       "\n",
       "                                        TimeZone   SentOn  Opened  \n",
       "0       \"(UTC-08:00) Pacific Time (US & Canada)\"  39:23.6       0  \n",
       "1       \"(UTC-06:00) Central Time (US & Canada)\"  47:19.0       1  \n",
       "2       \"(UTC-05:00) Eastern Time (US & Canada)\"  07:46.2       1  \n",
       "3       \"(UTC-08:00) Pacific Time (US & Canada)\"  31:32.7       0  \n",
       "4       \"(UTC-08:00) Pacific Time (US & Canada)\"  01:45.1       0  \n",
       "...                                          ...      ...     ...  \n",
       "100453  \"(UTC-05:00) Eastern Time (US & Canada)\"  29:50.9       0  \n",
       "100454  \"(UTC-06:00) Central Time (US & Canada)\"  00:52.9       0  \n",
       "100455  \"(UTC-06:00) Central Time (US & Canada)\"  17:33.7       1  \n",
       "100456  \"(UTC-05:00) Eastern Time (US & Canada)\"  48:57.6       0  \n",
       "100457  \"(UTC-05:00) Eastern Time (US & Canada)\"  37:34.2       0  \n",
       "\n",
       "[100458 rows x 7 columns]"
      ]
     },
     "execution_count": 2,
     "metadata": {},
     "output_type": "execute_result"
    }
   ],
   "source": [
    "train"
   ]
  },
  {
   "cell_type": "code",
   "execution_count": 3,
   "metadata": {},
   "outputs": [
    {
     "data": {
      "text/plain": [
       "FBCA1245-7297-41A8-1AB0-08D7856F3B8E    11621\n",
       "BDF4495B-0CB0-4ED0-0004-08D7C5C667B0    10261\n",
       "7FCE4E75-9A26-4EE6-7806-08D6CEFA3BFA     9083\n",
       "9F1BAD1D-0370-4200-0045-08D70B884EBA     8979\n",
       "BC150574-818E-4E7E-A8BA-5FF89FA58BD3     8041\n",
       "66C24EAB-51C7-4B5F-EFCA-08D6D3CCF2FF     7486\n",
       "346C7DF6-6C0C-446A-29FC-08D6F97C8B29     5888\n",
       "85248902-F678-4A80-7E11-08D70F5DECC9     5761\n",
       "6E9F1879-3783-4EFE-0046-08D70B884EBA     5238\n",
       "AD4F6159-49CB-4D35-9C6E-05AF3B427775     5138\n",
       "6D05D3D3-AAB3-4FD9-8560-543A39340D31     4112\n",
       "21D55108-D1DC-4097-A7AE-B371292CF8CC     3620\n",
       "2B68B3E2-ADF7-4D0F-8F59-645C8CDF6EA6     3285\n",
       "45242AF2-674C-44F0-ACC7-2B3A6DEA14FB     3233\n",
       "66BCC422-78B0-4AE2-9D97-CACD6E60CC00     2521\n",
       "3C8CED29-5F34-4DC7-29FD-08D6F97C8B29     1892\n",
       "3937EE6B-E00B-43E0-8131-DEDC0851F494     1344\n",
       "49728605-9DD7-47E7-922E-8348BA05C591      755\n",
       "2F156CAF-A91F-4C90-9BC7-1BEDBCF2F6A9      695\n",
       "F39B5F61-59C2-4628-0DAD-08D7AFC9218A      416\n",
       "0111BDE3-CC64-4276-98C2-FB1B8B506C05      279\n",
       "3804E345-C436-4ADF-7807-08D6CEFA3BFA      273\n",
       "5E3D6031-1F8C-4071-ADC1-08D7CCE31B90      262\n",
       "EB13C643-9530-4BEF-B498-08D82193FB22      150\n",
       "558CAFB0-E453-410B-B9BA-F4B52AEF56B1       60\n",
       "B5111C81-CB12-41A0-22CE-08D737767AB2       19\n",
       "30220088-5D57-4ABA-4F8F-08D78DFE3999       15\n",
       "6893CB77-03B4-424A-916A-08D767704B99       11\n",
       "F4C21A89-BF5B-45B6-20CC-08D74C06F401        3\n",
       "¢\\t                                         1\n",
       "Name: MailBoxID, dtype: int64"
      ]
     },
     "execution_count": 3,
     "metadata": {},
     "output_type": "execute_result"
    }
   ],
   "source": [
    "train.MailBoxID.value_counts()"
   ]
  },
  {
   "cell_type": "code",
   "execution_count": 4,
   "metadata": {
    "scrolled": true
   },
   "outputs": [
    {
     "data": {
      "text/plain": [
       "8D964C6E-4B8C-4153-A984-8581833B1D8C    23\n",
       "9F96D80F-E660-4AF3-9EF0-87C59729919E    22\n",
       "F8506D24-B91B-48C6-B677-1EB9EDBA4F6D    20\n",
       "C231CC77-72C9-46BC-9CF8-74628A435A04    20\n",
       "5796E64A-79FA-46BB-9A52-DF0E206549B4    19\n",
       "                                        ..\n",
       "039DC6B2-EE1A-4DBB-B6E5-BB73EFF2B4F8     1\n",
       "34F7DF35-395B-4BD4-82A3-EAE04A80D606     1\n",
       "E49B26E1-8680-4E57-B65A-89679431E705     1\n",
       "0709C888-EB06-4D23-AE1D-53177ED8770C     1\n",
       "20CCCCD6-0646-48E9-88CB-41A5129AE0A4     1\n",
       "Name: ContactID, Length: 29787, dtype: int64"
      ]
     },
     "execution_count": 4,
     "metadata": {},
     "output_type": "execute_result"
    }
   ],
   "source": [
    "train.ContactID.value_counts()"
   ]
  },
  {
   "cell_type": "code",
   "execution_count": 5,
   "metadata": {},
   "outputs": [
    {
     "data": {
      "text/plain": [
       "\"(UTC-05:00) Eastern Time (US & Canada)\"                          27374\n",
       "\"(UTC-06:00) Central Time (US & Canada)\"                          24440\n",
       "\"(UTC-08:00) Pacific Time (US & Canada)\"                          19472\n",
       "\"(UTC+01:00) Amsterdam, Berlin, Bern, Rome, Stockholm, Vienna\"     5175\n",
       "\"(UTC-07:00) Mountain Time (US & Canada)\"                          4920\n",
       "                                                                  ...  \n",
       "\"(UTC+02:00) Chisinau\"                                                3\n",
       "\"(UTC+06:00) Dhaka\"                                                   3\n",
       "\"(UTC+04:00) Yerevan\"                                                 3\n",
       "\"(UTC-05:00) Chetumal\"                                                1\n",
       "\"(UTC-04:00) Caracas\"                                                 1\n",
       "Name: TimeZone, Length: 73, dtype: int64"
      ]
     },
     "execution_count": 5,
     "metadata": {},
     "output_type": "execute_result"
    }
   ],
   "source": [
    "train.TimeZone.value_counts()"
   ]
  },
  {
   "cell_type": "code",
   "execution_count": 6,
   "metadata": {},
   "outputs": [
    {
     "data": {
      "text/html": [
       "<div>\n",
       "<style scoped>\n",
       "    .dataframe tbody tr th:only-of-type {\n",
       "        vertical-align: middle;\n",
       "    }\n",
       "\n",
       "    .dataframe tbody tr th {\n",
       "        vertical-align: top;\n",
       "    }\n",
       "\n",
       "    .dataframe thead th {\n",
       "        text-align: right;\n",
       "    }\n",
       "</style>\n",
       "<table border=\"1\" class=\"dataframe\">\n",
       "  <thead>\n",
       "    <tr style=\"text-align: right;\">\n",
       "      <th></th>\n",
       "      <th>Opened</th>\n",
       "    </tr>\n",
       "    <tr>\n",
       "      <th>TimeZone</th>\n",
       "      <th></th>\n",
       "    </tr>\n",
       "  </thead>\n",
       "  <tbody>\n",
       "    <tr>\n",
       "      <th>\"(UTC+00:00) Dublin, Edinburgh, Lisbon, London\"</th>\n",
       "      <td>0.323397</td>\n",
       "    </tr>\n",
       "    <tr>\n",
       "      <th>\"(UTC+00:00) Monrovia, Reykjavik\"</th>\n",
       "      <td>0.378378</td>\n",
       "    </tr>\n",
       "    <tr>\n",
       "      <th>\"(UTC+01:00) Amsterdam, Berlin, Bern, Rome, Stockholm, Vienna\"</th>\n",
       "      <td>0.336232</td>\n",
       "    </tr>\n",
       "    <tr>\n",
       "      <th>\"(UTC+01:00) Belgrade, Bratislava, Budapest, Ljubljana, Prague\"</th>\n",
       "      <td>0.316279</td>\n",
       "    </tr>\n",
       "    <tr>\n",
       "      <th>\"(UTC+01:00) Brussels, Copenhagen, Madrid, Paris\"</th>\n",
       "      <td>0.354796</td>\n",
       "    </tr>\n",
       "    <tr>\n",
       "      <th>...</th>\n",
       "      <td>...</td>\n",
       "    </tr>\n",
       "    <tr>\n",
       "      <th>\"(UTC-07:00) Arizona\"</th>\n",
       "      <td>0.233703</td>\n",
       "    </tr>\n",
       "    <tr>\n",
       "      <th>\"(UTC-07:00) Mountain Time (US &amp; Canada)\"</th>\n",
       "      <td>0.321545</td>\n",
       "    </tr>\n",
       "    <tr>\n",
       "      <th>\"(UTC-08:00) Pacific Time (US &amp; Canada)\"</th>\n",
       "      <td>0.356820</td>\n",
       "    </tr>\n",
       "    <tr>\n",
       "      <th>\"(UTC-09:00) Alaska\"</th>\n",
       "      <td>0.555556</td>\n",
       "    </tr>\n",
       "    <tr>\n",
       "      <th>\"(UTC-10:00) Hawaii\"</th>\n",
       "      <td>0.377358</td>\n",
       "    </tr>\n",
       "  </tbody>\n",
       "</table>\n",
       "<p>73 rows × 1 columns</p>\n",
       "</div>"
      ],
      "text/plain": [
       "                                                      Opened\n",
       "TimeZone                                                    \n",
       "\"(UTC+00:00) Dublin, Edinburgh, Lisbon, London\"     0.323397\n",
       "\"(UTC+00:00) Monrovia, Reykjavik\"                   0.378378\n",
       "\"(UTC+01:00) Amsterdam, Berlin, Bern, Rome, Sto...  0.336232\n",
       "\"(UTC+01:00) Belgrade, Bratislava, Budapest, Lj...  0.316279\n",
       "\"(UTC+01:00) Brussels, Copenhagen, Madrid, Paris\"   0.354796\n",
       "...                                                      ...\n",
       "\"(UTC-07:00) Arizona\"                               0.233703\n",
       "\"(UTC-07:00) Mountain Time (US & Canada)\"           0.321545\n",
       "\"(UTC-08:00) Pacific Time (US & Canada)\"            0.356820\n",
       "\"(UTC-09:00) Alaska\"                                0.555556\n",
       "\"(UTC-10:00) Hawaii\"                                0.377358\n",
       "\n",
       "[73 rows x 1 columns]"
      ]
     },
     "execution_count": 6,
     "metadata": {},
     "output_type": "execute_result"
    }
   ],
   "source": [
    "train.groupby('TimeZone').mean()"
   ]
  },
  {
   "cell_type": "code",
   "execution_count": null,
   "metadata": {},
   "outputs": [],
   "source": []
  },
  {
   "cell_type": "code",
   "execution_count": 7,
   "metadata": {},
   "outputs": [],
   "source": [
    "def extracting_time(x):\n",
    "    expr = '(\\d+):(\\d+)\\.(\\d+)'\n",
    "    if x is None:\n",
    "        return 0,0,0\n",
    "    r = re.search(expr, str(x))\n",
    "    try:\n",
    "        return r.group(1), r.group(2), r.group(3)\n",
    "    except:\n",
    "        return 0,0,0\n",
    "\n",
    "a,b,c = [], [], []\n",
    "for s in train.SentOn:\n",
    "    n,nn,nnn = extracting_time(s)\n",
    "    a.append(int(n))\n",
    "    b.append(int(nn))\n",
    "    c.append(int(nnn))"
   ]
  },
  {
   "cell_type": "code",
   "execution_count": 8,
   "metadata": {},
   "outputs": [],
   "source": [
    "train['a'] = a\n",
    "train['b'] = b\n",
    "train['c'] = c"
   ]
  },
  {
   "cell_type": "code",
   "execution_count": 9,
   "metadata": {},
   "outputs": [
    {
     "data": {
      "text/html": [
       "<div>\n",
       "<style scoped>\n",
       "    .dataframe tbody tr th:only-of-type {\n",
       "        vertical-align: middle;\n",
       "    }\n",
       "\n",
       "    .dataframe tbody tr th {\n",
       "        vertical-align: top;\n",
       "    }\n",
       "\n",
       "    .dataframe thead th {\n",
       "        text-align: right;\n",
       "    }\n",
       "</style>\n",
       "<table border=\"1\" class=\"dataframe\">\n",
       "  <thead>\n",
       "    <tr style=\"text-align: right;\">\n",
       "      <th></th>\n",
       "      <th>Opened</th>\n",
       "      <th>a</th>\n",
       "      <th>b</th>\n",
       "    </tr>\n",
       "    <tr>\n",
       "      <th>c</th>\n",
       "      <th></th>\n",
       "      <th></th>\n",
       "      <th></th>\n",
       "    </tr>\n",
       "  </thead>\n",
       "  <tbody>\n",
       "    <tr>\n",
       "      <th>0</th>\n",
       "      <td>0.314210</td>\n",
       "      <td>26.662468</td>\n",
       "      <td>29.223775</td>\n",
       "    </tr>\n",
       "    <tr>\n",
       "      <th>1</th>\n",
       "      <td>0.316349</td>\n",
       "      <td>26.562187</td>\n",
       "      <td>29.502508</td>\n",
       "    </tr>\n",
       "    <tr>\n",
       "      <th>2</th>\n",
       "      <td>0.318160</td>\n",
       "      <td>27.184924</td>\n",
       "      <td>29.076946</td>\n",
       "    </tr>\n",
       "    <tr>\n",
       "      <th>3</th>\n",
       "      <td>0.305785</td>\n",
       "      <td>26.650802</td>\n",
       "      <td>29.042418</td>\n",
       "    </tr>\n",
       "    <tr>\n",
       "      <th>4</th>\n",
       "      <td>0.319904</td>\n",
       "      <td>26.555644</td>\n",
       "      <td>29.384424</td>\n",
       "    </tr>\n",
       "    <tr>\n",
       "      <th>5</th>\n",
       "      <td>0.329072</td>\n",
       "      <td>26.975532</td>\n",
       "      <td>29.265655</td>\n",
       "    </tr>\n",
       "    <tr>\n",
       "      <th>6</th>\n",
       "      <td>0.319675</td>\n",
       "      <td>26.622780</td>\n",
       "      <td>29.149916</td>\n",
       "    </tr>\n",
       "    <tr>\n",
       "      <th>7</th>\n",
       "      <td>0.311366</td>\n",
       "      <td>26.485958</td>\n",
       "      <td>29.432019</td>\n",
       "    </tr>\n",
       "    <tr>\n",
       "      <th>8</th>\n",
       "      <td>0.317224</td>\n",
       "      <td>26.827466</td>\n",
       "      <td>29.086814</td>\n",
       "    </tr>\n",
       "    <tr>\n",
       "      <th>9</th>\n",
       "      <td>0.318875</td>\n",
       "      <td>26.798285</td>\n",
       "      <td>29.189052</td>\n",
       "    </tr>\n",
       "  </tbody>\n",
       "</table>\n",
       "</div>"
      ],
      "text/plain": [
       "     Opened          a          b\n",
       "c                                \n",
       "0  0.314210  26.662468  29.223775\n",
       "1  0.316349  26.562187  29.502508\n",
       "2  0.318160  27.184924  29.076946\n",
       "3  0.305785  26.650802  29.042418\n",
       "4  0.319904  26.555644  29.384424\n",
       "5  0.329072  26.975532  29.265655\n",
       "6  0.319675  26.622780  29.149916\n",
       "7  0.311366  26.485958  29.432019\n",
       "8  0.317224  26.827466  29.086814\n",
       "9  0.318875  26.798285  29.189052"
      ]
     },
     "execution_count": 9,
     "metadata": {},
     "output_type": "execute_result"
    }
   ],
   "source": [
    "train['Opened'] = train['Opened'].astype(int)\n",
    "train.groupby('c').mean()"
   ]
  },
  {
   "cell_type": "code",
   "execution_count": 11,
   "metadata": {},
   "outputs": [
    {
     "ename": "ValueError",
     "evalue": "attempted relative import beyond top-level package",
     "output_type": "error",
     "traceback": [
      "\u001b[0;31m---------------------------------------------------------------------------\u001b[0m",
      "\u001b[0;31mValueError\u001b[0m                                Traceback (most recent call last)",
      "\u001b[0;32m/var/folders/x1/2lncpj1x0xl2fks4286z84k00000gn/T/ipykernel_16204/3261444694.py\u001b[0m in \u001b[0;36m<module>\u001b[0;34m\u001b[0m\n\u001b[0;32m----> 1\u001b[0;31m \u001b[0;32mfrom\u001b[0m \u001b[0;34m.\u001b[0m\u001b[0;34m.\u001b[0m\u001b[0mmodules\u001b[0m\u001b[0;34m.\u001b[0m\u001b[0mprocessor\u001b[0m \u001b[0;32mimport\u001b[0m \u001b[0mPreprocessor\u001b[0m\u001b[0;34m\u001b[0m\u001b[0;34m\u001b[0m\u001b[0m\n\u001b[0m\u001b[1;32m      2\u001b[0m \u001b[0;34m\u001b[0m\u001b[0m\n\u001b[1;32m      3\u001b[0m \u001b[0mp\u001b[0m \u001b[0;34m=\u001b[0m \u001b[0mPreprocessor\u001b[0m\u001b[0;34m(\u001b[0m\u001b[0;34m)\u001b[0m\u001b[0;34m\u001b[0m\u001b[0;34m\u001b[0m\u001b[0m\n",
      "\u001b[0;31mValueError\u001b[0m: attempted relative import beyond top-level package"
     ]
    }
   ],
   "source": [
    "\n",
    "\n",
    "from ..modules.processor import Preprocessor\n",
    "\n",
    "p = Preprocessor()"
   ]
  },
  {
   "cell_type": "code",
   "execution_count": null,
   "metadata": {},
   "outputs": [],
   "source": []
  },
  {
   "cell_type": "code",
   "execution_count": null,
   "metadata": {},
   "outputs": [],
   "source": []
  },
  {
   "cell_type": "code",
   "execution_count": null,
   "metadata": {},
   "outputs": [],
   "source": []
  },
  {
   "cell_type": "code",
   "execution_count": null,
   "metadata": {},
   "outputs": [],
   "source": []
  },
  {
   "cell_type": "code",
   "execution_count": null,
   "metadata": {},
   "outputs": [],
   "source": []
  },
  {
   "cell_type": "code",
   "execution_count": null,
   "metadata": {},
   "outputs": [],
   "source": []
  },
  {
   "cell_type": "code",
   "execution_count": null,
   "metadata": {},
   "outputs": [],
   "source": []
  },
  {
   "cell_type": "code",
   "execution_count": null,
   "metadata": {},
   "outputs": [],
   "source": []
  },
  {
   "cell_type": "markdown",
   "metadata": {},
   "source": [
    "# Building initial pipeline"
   ]
  },
  {
   "cell_type": "code",
   "execution_count": 12,
   "metadata": {},
   "outputs": [],
   "source": [
    "from sklearn.metrics.pairwise import cosine_similarity\n",
    "import numpy as np\n",
    "from sklearn.model_selection import train_test_split\n",
    "from sklearn import preprocessing\n",
    "encoders = {c:preprocessing.LabelEncoder() for c in train.columns}\n",
    "train = train.astype(str)\n",
    "\n",
    "train_x = train.drop('Opened', axis = 1).apply(lambda col: encoders[col.name].fit_transform(col))\n",
    "\n",
    "X_train, X_test, y_train, y_test = train_test_split(train_x, train.Opened, test_size=0.2, random_state=42)"
   ]
  },
  {
   "cell_type": "code",
   "execution_count": 13,
   "metadata": {},
   "outputs": [],
   "source": [
    "from sklearn.feature_extraction.text import TfidfVectorizer\n",
    "from sklearn import preprocessing\n",
    "\n",
    "class Preprocessor:\n",
    "    def __init__(self, ):\n",
    "        encoders = {}\n",
    "        \n",
    "    def extracting_time(self, x):\n",
    "        expr = '(\\d+):(\\d+)\\.(\\d+)'\n",
    "        if x is None:\n",
    "            return 0,0,0\n",
    "        r = re.search(expr, str(x))\n",
    "        try:\n",
    "            return r.group(1), r.group(2), r.group(3)\n",
    "        except:\n",
    "            return 0,0,0\n",
    "    \n",
    "    def fit_texts(self, X_train):\n",
    "        texts = X_train['Subject'].fillna(\"\").astype(str)\n",
    "        self.vectorizer = TfidfVectorizer(max_features=500)\n",
    "        return self.vectorizer.fit_transform(texts).todense()\n",
    "    def transform_texts(self, X_test):\n",
    "        texts = X_test['Subject'].fillna(\"\").astype(str)\n",
    "        return self.vectorizer.fit_transform(texts).todense()\n",
    "        \n",
    "    def fit_mail_box(self, X_train):\n",
    "        self.mail_box_encoder = preprocessing.LabelEncoder()\n",
    "        return self.mail_box_encoder.fit_transform(X_train['MailBoxID']).reshape(-1,1)\n",
    "    def transform_mail_box(self, X_train):\n",
    "        return self.mail_box_encoder.transform(X_train['MailBoxID']).reshape(-1,1)\n",
    "        \n",
    "    def fit_timezone(self, X_train):\n",
    "        self.timezone_encoder = preprocessing.LabelEncoder()\n",
    "        return self.timezone_encoder.fit_transform(X_train['TimeZone']).reshape(-1,1)\n",
    "    def transform_timezone(self, X_train):\n",
    "        return self.timezone_encoder.transform(X_train['TimeZone']).reshape(-1,1)\n",
    "    \n",
    "    def process_send_on(self, X_train):\n",
    "        a,b,c = [], [], []\n",
    "        for s in X_train.SentOn:\n",
    "            n,nn,nnn = extracting_time(s)\n",
    "            a.append(int(n))\n",
    "            b.append(int(nn))\n",
    "            c.append(int(nnn))\n",
    "        \n",
    "        return np.array([a,b,c]).T\n",
    "    \n",
    "    def fit(self, X_train):\n",
    "        a = self.fit_texts(X_train)\n",
    "        b = self.fit_mail_box(X_train)\n",
    "        c = self.fit_timezone(X_train)\n",
    "        d = self.process_send_on(X_train)\n",
    "        \n",
    "        return np.array(np.hstack([a,b,c,d]), dtype = float)\n",
    "        \n",
    "    def transform(self, X_test):\n",
    "        a = self.transform_texts(X_test)\n",
    "        b = self.transform_mail_box(X_test)\n",
    "        c = self.transform_timezone(X_test)\n",
    "        d = self.process_send_on(X_test)\n",
    "        \n",
    "        return np.array(np.hstack([a,b,c,d]), dtype = float)\n",
    "        \n",
    "        "
   ]
  },
  {
   "cell_type": "code",
   "execution_count": 14,
   "metadata": {},
   "outputs": [],
   "source": [
    "p = Preprocessor()"
   ]
  },
  {
   "cell_type": "code",
   "execution_count": 15,
   "metadata": {},
   "outputs": [],
   "source": [
    "a = p.fit(X_train)"
   ]
  },
  {
   "cell_type": "code",
   "execution_count": 16,
   "metadata": {},
   "outputs": [],
   "source": [
    "b = p.fit(X_test)"
   ]
  },
  {
   "cell_type": "code",
   "execution_count": null,
   "metadata": {},
   "outputs": [
    {
     "name": "stderr",
     "output_type": "stream",
     "text": [
      "Custom logger is already specified. Specify more than one logger at same time is not thread safe."
     ]
    },
    {
     "data": {
      "application/vnd.jupyter.widget-view+json": {
       "model_id": "b25a794809b44dcfb5d074fa9bcb5dd1",
       "version_major": 2,
       "version_minor": 0
      },
      "text/plain": [
       "MetricVisualizer(layout=Layout(align_self='stretch', height='500px'))"
      ]
     },
     "metadata": {},
     "output_type": "display_data"
    }
   ],
   "source": [
    "# Strategy 2: Catboost + textfeatures\n",
    "from catboost import CatBoostClassifier, Pool\n",
    "from sklearn.utils.class_weight import compute_class_weight\n",
    " \n",
    "classes = np.unique(y_train)\n",
    "weights = compute_class_weight(class_weight='balanced', classes=classes, y=y_train)\n",
    "class_weights = dict(zip(classes, weights))\n",
    "\n",
    "# Initialize CatBoostClassifier\n",
    "model_clf = CatBoostClassifier(iterations=25000, \n",
    "                               custom_metric=['F1', 'AUC:hints=skip_train~false', 'Accuracy', 'Logloss'],\n",
    "                               task_type=\"CPU\",\n",
    "                               class_weights=class_weights)\n",
    "\n",
    "# Fit model\n",
    "model_clf.fit(a, y_train, eval_set = (b, y_test), plot = True, verbose = False)"
   ]
  },
  {
   "cell_type": "code",
   "execution_count": 18,
   "metadata": {},
   "outputs": [
    {
     "data": {
      "text/plain": [
       "0    68606\n",
       "1    31852\n",
       "Name: Opened, dtype: int64"
      ]
     },
     "execution_count": 18,
     "metadata": {},
     "output_type": "execute_result"
    }
   ],
   "source": [
    "train.Opened.value_counts()"
   ]
  },
  {
   "cell_type": "code",
   "execution_count": null,
   "metadata": {},
   "outputs": [],
   "source": []
  },
  {
   "cell_type": "code",
   "execution_count": null,
   "metadata": {},
   "outputs": [],
   "source": []
  },
  {
   "cell_type": "code",
   "execution_count": null,
   "metadata": {},
   "outputs": [],
   "source": []
  },
  {
   "cell_type": "code",
   "execution_count": null,
   "metadata": {},
   "outputs": [],
   "source": []
  },
  {
   "cell_type": "code",
   "execution_count": null,
   "metadata": {},
   "outputs": [],
   "source": []
  },
  {
   "cell_type": "code",
   "execution_count": 19,
   "metadata": {},
   "outputs": [
    {
     "data": {
      "text/plain": [
       "\"RE: 761 rep-days returned\"      2670\n",
       "\"RE: Ramp time headache\"         2424\n",
       "\"761 rep-days returned\"          1909\n",
       "\"Cold emails not converting?\"    1026\n",
       "\"Ramp time headache\"              894\n",
       "                                 ... \n",
       "\"RE: Hi Ruchika!\"                   1\n",
       "\"RE: Hi Brian! How are you?\"        1\n",
       "\"Hi Levi!\"                          1\n",
       "\"Hi Jakub!\"                         1\n",
       "\"RE: Hi Jean-Marie!\"                1\n",
       "Name: Subject, Length: 17762, dtype: int64"
      ]
     },
     "execution_count": 19,
     "metadata": {},
     "output_type": "execute_result"
    }
   ],
   "source": [
    "train.Subject.value_counts()"
   ]
  },
  {
   "cell_type": "code",
   "execution_count": null,
   "metadata": {},
   "outputs": [],
   "source": []
  },
  {
   "cell_type": "code",
   "execution_count": null,
   "metadata": {},
   "outputs": [],
   "source": []
  },
  {
   "cell_type": "code",
   "execution_count": null,
   "metadata": {},
   "outputs": [],
   "source": []
  },
  {
   "cell_type": "code",
   "execution_count": null,
   "metadata": {},
   "outputs": [],
   "source": []
  },
  {
   "cell_type": "code",
   "execution_count": null,
   "metadata": {},
   "outputs": [],
   "source": []
  },
  {
   "cell_type": "code",
   "execution_count": null,
   "metadata": {},
   "outputs": [],
   "source": [
    "Ideas: \n",
    "    - extract name of city\n",
    "    - extract time\n",
    "    \n",
    "personal vs not personal\n",
    "\n",
    "aggregations to extract from train\n",
    "\n",
    "recommender features\n",
    "\n",
    "коли кожен відсилає\n",
    "\n",
    "\n",
    "\n",
    "\n",
    "\n"
   ]
  }
 ],
 "metadata": {
  "kernelspec": {
   "display_name": "Python 3 (ipykernel)",
   "language": "python",
   "name": "python3"
  },
  "language_info": {
   "codemirror_mode": {
    "name": "ipython",
    "version": 3
   },
   "file_extension": ".py",
   "mimetype": "text/x-python",
   "name": "python",
   "nbconvert_exporter": "python",
   "pygments_lexer": "ipython3",
   "version": "3.7.4"
  }
 },
 "nbformat": 4,
 "nbformat_minor": 4
}
