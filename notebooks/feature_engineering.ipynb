{
 "cells": [
  {
   "cell_type": "code",
   "execution_count": 6,
   "id": "9624cabd-5084-4d5d-9eff-6f313d89932e",
   "metadata": {},
   "outputs": [],
   "source": [
    "import os\n",
    "from datetime import datetime\n",
    "\n",
    "import numpy as np\n",
    "import pandas as pd\n",
    "import matplotlib.pyplot as plt\n"
   ]
  },
  {
   "cell_type": "code",
   "execution_count": 2,
   "id": "bd57693c-d73f-42e2-82a4-0f492ba90c01",
   "metadata": {},
   "outputs": [],
   "source": [
    "df = pd.read_csv('../data/email_best_send_time_train.csv')"
   ]
  },
  {
   "cell_type": "code",
   "execution_count": 35,
   "id": "8f78821b-4836-4871-8a10-66bc19bc2318",
   "metadata": {},
   "outputs": [
    {
     "data": {
      "text/html": [
       "<div>\n",
       "<style scoped>\n",
       "    .dataframe tbody tr th:only-of-type {\n",
       "        vertical-align: middle;\n",
       "    }\n",
       "\n",
       "    .dataframe tbody tr th {\n",
       "        vertical-align: top;\n",
       "    }\n",
       "\n",
       "    .dataframe thead th {\n",
       "        text-align: right;\n",
       "    }\n",
       "</style>\n",
       "<table border=\"1\" class=\"dataframe\">\n",
       "  <thead>\n",
       "    <tr style=\"text-align: right;\">\n",
       "      <th></th>\n",
       "      <th>MailID</th>\n",
       "      <th>Subject</th>\n",
       "      <th>MailBoxID</th>\n",
       "      <th>ContactID</th>\n",
       "      <th>TimeZone</th>\n",
       "      <th>SentOn</th>\n",
       "      <th>Opened</th>\n",
       "    </tr>\n",
       "  </thead>\n",
       "  <tbody>\n",
       "    <tr>\n",
       "      <th>100139</th>\n",
       "      <td>2EA3A30E-D8DB-44E3-A8B3-CA7D9BA2633C</td>\n",
       "      <td>\"RE: Revenue Inbox | Sync integration for Sale...</td>\n",
       "      <td>FBCA1245-7297-41A8-1AB0-08D7856F3B8E</td>\n",
       "      <td>FEB418B4-D3FF-4B84-8703-E8A71478C11C</td>\n",
       "      <td>\"(UTC+00:00) Dublin, Edinburgh, Lisbon, London\"</td>\n",
       "      <td>7/1/21 11:48</td>\n",
       "      <td>1</td>\n",
       "    </tr>\n",
       "    <tr>\n",
       "      <th>100140</th>\n",
       "      <td>114E23DD-5386-40FA-B7C8-AFD80628FE4D</td>\n",
       "      <td>\"RE: Hi Jeffrey!\"</td>\n",
       "      <td>2B68B3E2-ADF7-4D0F-8F59-645C8CDF6EA6</td>\n",
       "      <td>748DFA05-47E9-4FB8-9EA3-0B5619CD6CB6</td>\n",
       "      <td>\"(UTC-05:00) Eastern Time (US &amp; Canada)\"</td>\n",
       "      <td>7/1/21 11:48</td>\n",
       "      <td>0</td>\n",
       "    </tr>\n",
       "    <tr>\n",
       "      <th>100141</th>\n",
       "      <td>6EE9027F-E9E5-476C-B1F4-F9A6433B5DDF</td>\n",
       "      <td>\"testy test\"</td>\n",
       "      <td>66C24EAB-51C7-4B5F-EFCA-08D6D3CCF2FF</td>\n",
       "      <td>E315C9A4-E5C4-484F-9278-6347BE3C2CD1</td>\n",
       "      <td>NaN</td>\n",
       "      <td>7/1/21 11:55</td>\n",
       "      <td>0</td>\n",
       "    </tr>\n",
       "    <tr>\n",
       "      <th>100142</th>\n",
       "      <td>DE170985-95AB-47B6-A077-B7B4BD6C6FF3</td>\n",
       "      <td>\"RE: Charlotte, thanks for signing up to Reven...</td>\n",
       "      <td>FBCA1245-7297-41A8-1AB0-08D7856F3B8E</td>\n",
       "      <td>793680C5-DDFD-41A8-9194-61B1AFC9D9F2</td>\n",
       "      <td>\"(UTC+00:00) Dublin, Edinburgh, Lisbon, London\"</td>\n",
       "      <td>7/1/21 11:55</td>\n",
       "      <td>0</td>\n",
       "    </tr>\n",
       "    <tr>\n",
       "      <th>100143</th>\n",
       "      <td>980A56CD-3649-4369-9497-A1D44AA73550</td>\n",
       "      <td>\"Michael, thank you for your interest in Reven...</td>\n",
       "      <td>66BCC422-78B0-4AE2-9D97-CACD6E60CC00</td>\n",
       "      <td>74E02258-2284-4856-BDE9-C493951FB555</td>\n",
       "      <td>\"(UTC-05:00) Eastern Time (US &amp; Canada)\"</td>\n",
       "      <td>7/1/21 12:01</td>\n",
       "      <td>0</td>\n",
       "    </tr>\n",
       "  </tbody>\n",
       "</table>\n",
       "</div>"
      ],
      "text/plain": [
       "                                      MailID  \\\n",
       "100139  2EA3A30E-D8DB-44E3-A8B3-CA7D9BA2633C   \n",
       "100140  114E23DD-5386-40FA-B7C8-AFD80628FE4D   \n",
       "100141  6EE9027F-E9E5-476C-B1F4-F9A6433B5DDF   \n",
       "100142  DE170985-95AB-47B6-A077-B7B4BD6C6FF3   \n",
       "100143  980A56CD-3649-4369-9497-A1D44AA73550   \n",
       "\n",
       "                                                  Subject  \\\n",
       "100139  \"RE: Revenue Inbox | Sync integration for Sale...   \n",
       "100140                                  \"RE: Hi Jeffrey!\"   \n",
       "100141                                       \"testy test\"   \n",
       "100142  \"RE: Charlotte, thanks for signing up to Reven...   \n",
       "100143  \"Michael, thank you for your interest in Reven...   \n",
       "\n",
       "                                   MailBoxID  \\\n",
       "100139  FBCA1245-7297-41A8-1AB0-08D7856F3B8E   \n",
       "100140  2B68B3E2-ADF7-4D0F-8F59-645C8CDF6EA6   \n",
       "100141  66C24EAB-51C7-4B5F-EFCA-08D6D3CCF2FF   \n",
       "100142  FBCA1245-7297-41A8-1AB0-08D7856F3B8E   \n",
       "100143  66BCC422-78B0-4AE2-9D97-CACD6E60CC00   \n",
       "\n",
       "                                   ContactID  \\\n",
       "100139  FEB418B4-D3FF-4B84-8703-E8A71478C11C   \n",
       "100140  748DFA05-47E9-4FB8-9EA3-0B5619CD6CB6   \n",
       "100141  E315C9A4-E5C4-484F-9278-6347BE3C2CD1   \n",
       "100142  793680C5-DDFD-41A8-9194-61B1AFC9D9F2   \n",
       "100143  74E02258-2284-4856-BDE9-C493951FB555   \n",
       "\n",
       "                                               TimeZone        SentOn  Opened  \n",
       "100139  \"(UTC+00:00) Dublin, Edinburgh, Lisbon, London\"  7/1/21 11:48       1  \n",
       "100140         \"(UTC-05:00) Eastern Time (US & Canada)\"  7/1/21 11:48       0  \n",
       "100141                                              NaN  7/1/21 11:55       0  \n",
       "100142  \"(UTC+00:00) Dublin, Edinburgh, Lisbon, London\"  7/1/21 11:55       0  \n",
       "100143         \"(UTC-05:00) Eastern Time (US & Canada)\"  7/1/21 12:01       0  "
      ]
     },
     "execution_count": 35,
     "metadata": {},
     "output_type": "execute_result"
    }
   ],
   "source": [
    "df.tail(5)"
   ]
  },
  {
   "cell_type": "code",
   "execution_count": 4,
   "id": "05b8bd08-c223-43aa-a4bb-539008879771",
   "metadata": {},
   "outputs": [
    {
     "data": {
      "text/plain": [
       "(100144, 7)"
      ]
     },
     "execution_count": 4,
     "metadata": {},
     "output_type": "execute_result"
    }
   ],
   "source": [
    "df.shape"
   ]
  },
  {
   "cell_type": "code",
   "execution_count": 38,
   "id": "462a09ef-ec73-4797-8553-46f82b03c5db",
   "metadata": {},
   "outputs": [],
   "source": [
    "def remove_brackets(txt):\n",
    "        if txt.startswith('\"'):\n",
    "            txt = txt[1:]\n",
    "        if txt.endswith('\"'):\n",
    "            txt = txt[:-1]\n",
    "        return txt"
   ]
  },
  {
   "cell_type": "code",
   "execution_count": 40,
   "id": "c973d3ab-e2c0-46c4-b498-cb0e5e76a2f7",
   "metadata": {},
   "outputs": [
    {
     "data": {
      "text/plain": [
       "'\"RE: Revenue Inbox | Sync integration for Salesforce\"'"
      ]
     },
     "execution_count": 40,
     "metadata": {},
     "output_type": "execute_result"
    }
   ],
   "source": [
    "df.Subject[100139]"
   ]
  },
  {
   "cell_type": "code",
   "execution_count": 39,
   "id": "4f8c2e4e-c8ae-4397-a1b8-a824d2f7a11f",
   "metadata": {},
   "outputs": [
    {
     "data": {
      "text/plain": [
       "'RE: Revenue Inbox | Sync integration for Salesforce'"
      ]
     },
     "execution_count": 39,
     "metadata": {},
     "output_type": "execute_result"
    }
   ],
   "source": [
    "remove_brackets(df.Subject[100139])"
   ]
  },
  {
   "cell_type": "code",
   "execution_count": 41,
   "id": "896cb3f6-9608-4618-941d-c3b6cd6bca12",
   "metadata": {},
   "outputs": [
    {
     "data": {
      "text/plain": [
       "True"
      ]
     },
     "execution_count": 41,
     "metadata": {},
     "output_type": "execute_result"
    }
   ],
   "source": [
    "remove_brackets(df.Subject[100139]).lower().startswith('re')"
   ]
  },
  {
   "cell_type": "code",
   "execution_count": 20,
   "id": "55daf6a1-ce52-4a63-bf66-558f8308d7c1",
   "metadata": {},
   "outputs": [],
   "source": [
    "def extract_time(time_str):\n",
    "    dt = datetime.strptime(time_str, '%d/%m/%y %H:%M')\n",
    "    return dt.year, dt.month, dt.day, dt.hour, dt.minute"
   ]
  },
  {
   "cell_type": "code",
   "execution_count": 23,
   "id": "369cb83a-f816-4b11-ac14-6de4f0b245fa",
   "metadata": {},
   "outputs": [],
   "source": [
    "for t in df.SentOn:\n",
    "    extract_time(t)"
   ]
  },
  {
   "cell_type": "markdown",
   "id": "56577389-3ddf-46a7-9205-de0a5510ff35",
   "metadata": {},
   "source": [
    "# text features\n",
    "from subject - ner (name), contains \"re\", contains \"!\""
   ]
  },
  {
   "cell_type": "code",
   "execution_count": 93,
   "id": "195be915-22b6-4959-bcf5-bdd6815dea3c",
   "metadata": {},
   "outputs": [],
   "source": [
    "import spacy"
   ]
  },
  {
   "cell_type": "code",
   "execution_count": 98,
   "id": "ebb4de36-6cc8-4139-b83a-41fae7786ce0",
   "metadata": {},
   "outputs": [],
   "source": [
    "nlp = spacy.load('en_core_web_sm')"
   ]
  },
  {
   "cell_type": "code",
   "execution_count": 120,
   "id": "7d9ea7c1-d30e-474b-86f7-9c95f5186307",
   "metadata": {},
   "outputs": [],
   "source": [
    "doc = nlp(df.Subject[2])"
   ]
  },
  {
   "cell_type": "code",
   "execution_count": 121,
   "id": "ef2fb844-09ab-4729-a0a1-f66fabf8586f",
   "metadata": {},
   "outputs": [
    {
     "data": {
      "text/plain": [
       "[]"
      ]
     },
     "execution_count": 121,
     "metadata": {},
     "output_type": "execute_result"
    }
   ],
   "source": [
    "[ent.label_ for ent in doc.ents]"
   ]
  },
  {
   "cell_type": "code",
   "execution_count": 122,
   "id": "d1b73c85-a235-4788-a96b-d89b01164abb",
   "metadata": {},
   "outputs": [
    {
     "data": {
      "text/plain": [
       "()"
      ]
     },
     "execution_count": 122,
     "metadata": {},
     "output_type": "execute_result"
    }
   ],
   "source": [
    "doc.ents"
   ]
  },
  {
   "cell_type": "code",
   "execution_count": null,
   "id": "48f1d7a2-7e82-4fdc-a524-2e3098706750",
   "metadata": {},
   "outputs": [],
   "source": []
  }
 ],
 "metadata": {
  "kernelspec": {
   "display_name": "Python 3 (ipykernel)",
   "language": "python",
   "name": "python3"
  },
  "language_info": {
   "codemirror_mode": {
    "name": "ipython",
    "version": 3
   },
   "file_extension": ".py",
   "mimetype": "text/x-python",
   "name": "python",
   "nbconvert_exporter": "python",
   "pygments_lexer": "ipython3",
   "version": "3.7.4"
  }
 },
 "nbformat": 4,
 "nbformat_minor": 5
}
