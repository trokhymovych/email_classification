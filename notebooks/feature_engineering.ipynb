{
 "cells": [
  {
   "cell_type": "code",
   "execution_count": 85,
   "id": "9624cabd-5084-4d5d-9eff-6f313d89932e",
   "metadata": {},
   "outputs": [],
   "source": [
    "import os\n",
    "\n",
    "import numpy as np\n",
    "import pandas as pd\n",
    "import matplotlib.pyplot as plt\n"
   ]
  },
  {
   "cell_type": "code",
   "execution_count": 2,
   "id": "bd57693c-d73f-42e2-82a4-0f492ba90c01",
   "metadata": {},
   "outputs": [],
   "source": [
    "df = pd.read_csv('../data/email_best_send_time_train.csv')"
   ]
  },
  {
   "cell_type": "code",
   "execution_count": 3,
   "id": "8f78821b-4836-4871-8a10-66bc19bc2318",
   "metadata": {},
   "outputs": [
    {
     "data": {
      "text/html": [
       "<div>\n",
       "<style scoped>\n",
       "    .dataframe tbody tr th:only-of-type {\n",
       "        vertical-align: middle;\n",
       "    }\n",
       "\n",
       "    .dataframe tbody tr th {\n",
       "        vertical-align: top;\n",
       "    }\n",
       "\n",
       "    .dataframe thead th {\n",
       "        text-align: right;\n",
       "    }\n",
       "</style>\n",
       "<table border=\"1\" class=\"dataframe\">\n",
       "  <thead>\n",
       "    <tr style=\"text-align: right;\">\n",
       "      <th></th>\n",
       "      <th>MailID</th>\n",
       "      <th>Subject</th>\n",
       "      <th>MailBoxID</th>\n",
       "      <th>ContactID</th>\n",
       "      <th>TimeZone</th>\n",
       "      <th>SentOn</th>\n",
       "      <th>Opened</th>\n",
       "    </tr>\n",
       "  </thead>\n",
       "  <tbody>\n",
       "    <tr>\n",
       "      <th>0</th>\n",
       "      <td>2381407D-FF81-4D6B-BFAC-D967720C4F7E</td>\n",
       "      <td>\"AJ, thank you for your interest in Revenue In...</td>\n",
       "      <td>66BCC422-78B0-4AE2-9D97-CACD6E60CC00</td>\n",
       "      <td>448CB3F3-B762-4C49-8690-41EE0ED874B3</td>\n",
       "      <td>\"(UTC-08:00) Pacific Time (US &amp; Canada)\"</td>\n",
       "      <td>39:23.6</td>\n",
       "      <td>0</td>\n",
       "    </tr>\n",
       "    <tr>\n",
       "      <th>1</th>\n",
       "      <td>519CA2A6-F77D-4A75-9D2B-536EFCE4E9A1</td>\n",
       "      <td>\"Hi Greg!\"</td>\n",
       "      <td>BC150574-818E-4E7E-A8BA-5FF89FA58BD3</td>\n",
       "      <td>D6574190-E0B2-4AD2-BCF7-CB436E957907</td>\n",
       "      <td>\"(UTC-06:00) Central Time (US &amp; Canada)\"</td>\n",
       "      <td>47:19.0</td>\n",
       "      <td>1</td>\n",
       "    </tr>\n",
       "    <tr>\n",
       "      <th>2</th>\n",
       "      <td>435FA79E-0EBB-4484-95EC-45632EE04057</td>\n",
       "      <td>\"RE: We're of use!\"</td>\n",
       "      <td>0111BDE3-CC64-4276-98C2-FB1B8B506C05</td>\n",
       "      <td>EF3E3347-ECF5-4653-A5B1-AA599BDD0419</td>\n",
       "      <td>\"(UTC-05:00) Eastern Time (US &amp; Canada)\"</td>\n",
       "      <td>07:46.2</td>\n",
       "      <td>1</td>\n",
       "    </tr>\n",
       "    <tr>\n",
       "      <th>3</th>\n",
       "      <td>8BB6F9A2-9E19-41E2-9AD5-ED27A22C56B8</td>\n",
       "      <td>\"RE: Hi Thomas!\"</td>\n",
       "      <td>66BCC422-78B0-4AE2-9D97-CACD6E60CC00</td>\n",
       "      <td>DBF9EFE2-1062-4213-9C44-74A941E06096</td>\n",
       "      <td>\"(UTC-08:00) Pacific Time (US &amp; Canada)\"</td>\n",
       "      <td>31:32.7</td>\n",
       "      <td>0</td>\n",
       "    </tr>\n",
       "    <tr>\n",
       "      <th>4</th>\n",
       "      <td>6A389548-9C49-4C7B-AF09-CCFC56026611</td>\n",
       "      <td>\"RE: Hi Hill!\"</td>\n",
       "      <td>66C24EAB-51C7-4B5F-EFCA-08D6D3CCF2FF</td>\n",
       "      <td>44799F61-76DF-4F6F-A37D-04DB88473C8C</td>\n",
       "      <td>\"(UTC-08:00) Pacific Time (US &amp; Canada)\"</td>\n",
       "      <td>01:45.1</td>\n",
       "      <td>0</td>\n",
       "    </tr>\n",
       "  </tbody>\n",
       "</table>\n",
       "</div>"
      ],
      "text/plain": [
       "                                 MailID  \\\n",
       "0  2381407D-FF81-4D6B-BFAC-D967720C4F7E   \n",
       "1  519CA2A6-F77D-4A75-9D2B-536EFCE4E9A1   \n",
       "2  435FA79E-0EBB-4484-95EC-45632EE04057   \n",
       "3  8BB6F9A2-9E19-41E2-9AD5-ED27A22C56B8   \n",
       "4  6A389548-9C49-4C7B-AF09-CCFC56026611   \n",
       "\n",
       "                                             Subject  \\\n",
       "0  \"AJ, thank you for your interest in Revenue In...   \n",
       "1                                         \"Hi Greg!\"   \n",
       "2                                \"RE: We're of use!\"   \n",
       "3                                   \"RE: Hi Thomas!\"   \n",
       "4                                     \"RE: Hi Hill!\"   \n",
       "\n",
       "                              MailBoxID                             ContactID  \\\n",
       "0  66BCC422-78B0-4AE2-9D97-CACD6E60CC00  448CB3F3-B762-4C49-8690-41EE0ED874B3   \n",
       "1  BC150574-818E-4E7E-A8BA-5FF89FA58BD3  D6574190-E0B2-4AD2-BCF7-CB436E957907   \n",
       "2  0111BDE3-CC64-4276-98C2-FB1B8B506C05  EF3E3347-ECF5-4653-A5B1-AA599BDD0419   \n",
       "3  66BCC422-78B0-4AE2-9D97-CACD6E60CC00  DBF9EFE2-1062-4213-9C44-74A941E06096   \n",
       "4  66C24EAB-51C7-4B5F-EFCA-08D6D3CCF2FF  44799F61-76DF-4F6F-A37D-04DB88473C8C   \n",
       "\n",
       "                                   TimeZone   SentOn  Opened  \n",
       "0  \"(UTC-08:00) Pacific Time (US & Canada)\"  39:23.6       0  \n",
       "1  \"(UTC-06:00) Central Time (US & Canada)\"  47:19.0       1  \n",
       "2  \"(UTC-05:00) Eastern Time (US & Canada)\"  07:46.2       1  \n",
       "3  \"(UTC-08:00) Pacific Time (US & Canada)\"  31:32.7       0  \n",
       "4  \"(UTC-08:00) Pacific Time (US & Canada)\"  01:45.1       0  "
      ]
     },
     "execution_count": 3,
     "metadata": {},
     "output_type": "execute_result"
    }
   ],
   "source": [
    "df.head()"
   ]
  },
  {
   "cell_type": "code",
   "execution_count": 53,
   "id": "05b8bd08-c223-43aa-a4bb-539008879771",
   "metadata": {},
   "outputs": [
    {
     "data": {
      "text/plain": [
       "(100458, 7)"
      ]
     },
     "execution_count": 53,
     "metadata": {},
     "output_type": "execute_result"
    }
   ],
   "source": [
    "df.shape"
   ]
  },
  {
   "cell_type": "code",
   "execution_count": 89,
   "id": "2baab0af-c369-4c52-8ab8-ccb3907aeb1e",
   "metadata": {},
   "outputs": [],
   "source": [
    "def get_split_time(time_series: pd.Series):\n",
    "    parsed_time = []\n",
    "    for row in list(time_series):\n",
    "        if isinstance(row, str):\n",
    "            parsed_time.append([int(val) for val in row.replace('.', ':').split(':')])\n",
    "        else:\n",
    "            parsed_time.append([0, 0, 0])\n",
    "    parsed_time = np.array(parsed_time)\n",
    "    return parsed_time[:, 0], parsed_time[:, 1], parsed_time[:, 2]"
   ]
  },
  {
   "cell_type": "code",
   "execution_count": 90,
   "id": "03fe2edb-69cd-4d70-85bc-b2745677b011",
   "metadata": {},
   "outputs": [],
   "source": [
    "m, s, ms = get_split_time(df.SentOn)"
   ]
  },
  {
   "cell_type": "code",
   "execution_count": 91,
   "id": "00331e98-5272-4fe0-bf0c-88af58825c88",
   "metadata": {},
   "outputs": [
    {
     "name": "stdout",
     "output_type": "stream",
     "text": [
      "[39 47  7 ... 17 48 37]\n",
      "[23 19 46 ... 33 57 34]\n",
      "[6 0 2 ... 7 6 2]\n"
     ]
    }
   ],
   "source": [
    "print(m)\n",
    "print(s)\n",
    "print(ms)"
   ]
  },
  {
   "cell_type": "markdown",
   "id": "56577389-3ddf-46a7-9205-de0a5510ff35",
   "metadata": {},
   "source": [
    "# text features\n",
    "from subject - ner (name), contains \"re\", contains \"!\""
   ]
  },
  {
   "cell_type": "code",
   "execution_count": 93,
   "id": "195be915-22b6-4959-bcf5-bdd6815dea3c",
   "metadata": {},
   "outputs": [],
   "source": [
    "import spacy"
   ]
  },
  {
   "cell_type": "code",
   "execution_count": 98,
   "id": "ebb4de36-6cc8-4139-b83a-41fae7786ce0",
   "metadata": {},
   "outputs": [],
   "source": [
    "nlp = spacy.load('en_core_web_sm')"
   ]
  },
  {
   "cell_type": "code",
   "execution_count": 120,
   "id": "7d9ea7c1-d30e-474b-86f7-9c95f5186307",
   "metadata": {},
   "outputs": [],
   "source": [
    "doc = nlp(df.Subject[2])"
   ]
  },
  {
   "cell_type": "code",
   "execution_count": 121,
   "id": "ef2fb844-09ab-4729-a0a1-f66fabf8586f",
   "metadata": {},
   "outputs": [
    {
     "data": {
      "text/plain": [
       "[]"
      ]
     },
     "execution_count": 121,
     "metadata": {},
     "output_type": "execute_result"
    }
   ],
   "source": [
    "[ent.label_ for ent in doc.ents]"
   ]
  },
  {
   "cell_type": "code",
   "execution_count": 122,
   "id": "d1b73c85-a235-4788-a96b-d89b01164abb",
   "metadata": {},
   "outputs": [
    {
     "data": {
      "text/plain": [
       "()"
      ]
     },
     "execution_count": 122,
     "metadata": {},
     "output_type": "execute_result"
    }
   ],
   "source": [
    "doc.ents"
   ]
  },
  {
   "cell_type": "code",
   "execution_count": null,
   "id": "48f1d7a2-7e82-4fdc-a524-2e3098706750",
   "metadata": {},
   "outputs": [],
   "source": []
  }
 ],
 "metadata": {
  "kernelspec": {
   "display_name": "Python 3 (ipykernel)",
   "language": "python",
   "name": "python3"
  },
  "language_info": {
   "codemirror_mode": {
    "name": "ipython",
    "version": 3
   },
   "file_extension": ".py",
   "mimetype": "text/x-python",
   "name": "python",
   "nbconvert_exporter": "python",
   "pygments_lexer": "ipython3",
   "version": "3.7.4"
  }
 },
 "nbformat": 4,
 "nbformat_minor": 5
}
